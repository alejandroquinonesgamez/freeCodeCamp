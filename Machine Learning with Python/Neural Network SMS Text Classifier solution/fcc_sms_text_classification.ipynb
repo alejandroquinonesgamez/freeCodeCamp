{
  "cells": [
    {
      "cell_type": "markdown",
      "metadata": {
        "id": "Eg62Pmz3o83v"
      },
      "source": [
        "*Note: You are currently reading this using Google Colaboratory which is a cloud-hosted version of Jupyter Notebook. This is a document containing both text cells for documentation and runnable code cells. If you are unfamiliar with Jupyter Notebook, watch this 3-minute introduction before starting this challenge: https://www.youtube.com/watch?v=inN8seMm7UI*\n",
        "\n",
        "---\n",
        "\n",
        "In this challenge, you need to create a machine learning model that will classify SMS messages as either \"ham\" or \"spam\". A \"ham\" message is a normal message sent by a friend. A \"spam\" message is an advertisement or a message sent by a company.\n",
        "\n",
        "You should create a function called `predict_message` that takes a message string as an argument and returns a list. The first element in the list should be a number between zero and one that indicates the likeliness of \"ham\" (0) or \"spam\" (1). The second element in the list should be the word \"ham\" or \"spam\", depending on which is most likely.\n",
        "\n",
        "For this challenge, you will use the [SMS Spam Collection dataset](http://www.dt.fee.unicamp.br/~tiago/smsspamcollection/). The dataset has already been grouped into train data and test data.\n",
        "\n",
        "The first two cells import the libraries and data. The final cell tests your model and function. Add your code in between these cells.\n"
      ]
    },
    {
      "cell_type": "code",
      "execution_count": null,
      "metadata": {
        "id": "8RZOuS9LWQvv"
      },
      "outputs": [],
      "source": [
        "# import libraries\n",
        "try:\n",
        "  # %tensorflow_version only exists in Colab.\n",
        "  !pip install tf-nightly\n",
        "except Exception:\n",
        "  pass\n",
        "import tensorflow as tf\n",
        "import pandas as pd\n",
        "from tensorflow import keras\n",
        "!pip install tensorflow-datasets\n",
        "import tensorflow_datasets as tfds\n",
        "import numpy as np\n",
        "import matplotlib.pyplot as plt\n",
        "\n",
        "print(tf.__version__)"
      ]
    },
    {
      "cell_type": "code",
      "execution_count": null,
      "metadata": {
        "id": "lMHwYXHXCar3"
      },
      "outputs": [],
      "source": [
        "# get data files\n",
        "!wget https://cdn.freecodecamp.org/project-data/sms/train-data.tsv\n",
        "!wget https://cdn.freecodecamp.org/project-data/sms/valid-data.tsv\n",
        "\n",
        "train_file_path = \"train-data.tsv\"\n",
        "test_file_path = \"valid-data.tsv\""
      ]
    },
    {
      "cell_type": "code",
      "execution_count": null,
      "metadata": {
        "id": "g_h508FEClxO"
      },
      "outputs": [],
      "source": [
        "# Getting the data\n",
        "header = ['type', 'txt']\n",
        "train_df = pd.read_csv(train_file_path, sep='\\t', names=header)\n",
        "test_df = pd.read_csv(test_file_path, sep='\\t', names=header)\n",
        "train_df"
      ]
    },
    {
      "cell_type": "code",
      "source": [
        "# Transform categorical data to numerical\n",
        "train_df['type'] = pd.factorize(train_df['type'])[0]\n",
        "test_df['type'] = pd.factorize(test_df['type'])[0]\n",
        "test_df.head()"
      ],
      "metadata": {
        "id": "jb8Axytmb7w_"
      },
      "execution_count": null,
      "outputs": []
    },
    {
      "cell_type": "code",
      "source": [
        "# Getting the labels\n",
        "train_labels = train_df.pop('type')\n",
        "test_labels = test_df.pop('type')"
      ],
      "metadata": {
        "id": "SpeNHv6kcZ6b"
      },
      "execution_count": null,
      "outputs": []
    },
    {
      "cell_type": "code",
      "source": [
        "print(test_df['txt'][0])"
      ],
      "metadata": {
        "id": "qRVQJsSMDozj"
      },
      "execution_count": null,
      "outputs": []
    },
    {
      "cell_type": "code",
      "source": [
        "# Cleaning data function\n",
        "import re\n",
        "def cleaning(df):\n",
        "  clean = []\n",
        "  for i in range(len(df)):\n",
        "    temporal = re.sub('[.,!? ]', ' ', df['txt'][i])\n",
        "    temporal = re.sub('[^a-zA-Z] ', '', temporal)\n",
        "    temporal = temporal.lower()\n",
        "    clean.append(temporal)\n",
        "  return clean"
      ],
      "metadata": {
        "id": "TVO5HxuCD5Qr"
      },
      "execution_count": null,
      "outputs": []
    },
    {
      "cell_type": "code",
      "source": [
        "# Clean the data\n",
        "train = cleaning(train_df)\n",
        "test = cleaning(test_df)"
      ],
      "metadata": {
        "id": "9HGvKbV_FC0r"
      },
      "execution_count": null,
      "outputs": []
    },
    {
      "cell_type": "code",
      "source": [
        "test[0]"
      ],
      "metadata": {
        "id": "6qX3uB77F5Z3"
      },
      "execution_count": null,
      "outputs": []
    },
    {
      "cell_type": "code",
      "source": [
        "# Using tokenizer to assign each word to a number\n",
        "from keras.preprocessing.text import Tokenizer\n",
        "\n",
        "tokenizer = Tokenizer(num_words=5000)\n",
        "tokenizer.fit_on_texts(train)\n",
        "\n",
        "train_token = tokenizer.texts_to_sequences(train)\n",
        "test_token = tokenizer.texts_to_sequences(test)\n",
        "\n",
        "vocabulary_size = len(tokenizer.word_index) + 1  # Adding 1 because of reserved 0 index"
      ],
      "metadata": {
        "id": "E6zlrZZHI3rg"
      },
      "execution_count": null,
      "outputs": []
    },
    {
      "cell_type": "code",
      "source": [
        "print(test_token[0])"
      ],
      "metadata": {
        "id": "9_UopVVeKzgF"
      },
      "execution_count": null,
      "outputs": []
    },
    {
      "cell_type": "code",
      "source": [
        "# Adding an ending pad to 100 words filled with 0\n",
        "pad = 100\n",
        "\n",
        "train_token = keras.preprocessing.sequence.pad_sequences(train_token, padding='post', maxlen=pad)\n",
        "test_token = keras.preprocessing.sequence.pad_sequences(test_token, padding='post', maxlen=pad)"
      ],
      "metadata": {
        "id": "lvAEsK18Jnd6"
      },
      "execution_count": null,
      "outputs": []
    },
    {
      "cell_type": "code",
      "source": [
        "print(test_token[0])"
      ],
      "metadata": {
        "id": "fNTSiUyrK6SV"
      },
      "execution_count": null,
      "outputs": []
    },
    {
      "cell_type": "code",
      "source": [
        "# Creating the model\n",
        "from keras import layers\n",
        "model = tf.keras.Sequential([\n",
        "    layers.Embedding(vocabulary_size, 64, input_length=pad),\n",
        "    layers.Dense(32, activation='relu'),\n",
        "    layers.Dense(1, activation='sigmoid')\n",
        "])\n",
        "\n",
        "model.summary()"
      ],
      "metadata": {
        "id": "0YxAjVjciggN"
      },
      "execution_count": null,
      "outputs": []
    },
    {
      "cell_type": "code",
      "source": [
        "# Compiling the model\n",
        "model.compile(\n",
        "    optimizer = 'adam',\n",
        "    loss = 'binary_crossentropy',\n",
        "    metrics = ['accuracy']\n",
        ")"
      ],
      "metadata": {
        "id": "rbxEmjMQ2wR5"
      },
      "execution_count": null,
      "outputs": []
    },
    {
      "cell_type": "code",
      "source": [
        "# Training the model\n",
        "model.fit(\n",
        "    train_token, train_labels,\n",
        "    validation_data=(test_token, test_labels),\n",
        "    epochs=10,\n",
        "    verbose=2\n",
        ")"
      ],
      "metadata": {
        "id": "LGbwmDMp4FP8"
      },
      "execution_count": null,
      "outputs": []
    },
    {
      "cell_type": "code",
      "execution_count": null,
      "metadata": {
        "id": "J9tD9yACG6M9"
      },
      "outputs": [],
      "source": [
        "# function to predict messages based on model\n",
        "# (should return list containing prediction and label, ex. [0.008318834938108921, 'ham'])\n",
        "def predict_message(pred_text):\n",
        "  df_text = pd.DataFrame([pred_text]).rename(columns={0:'txt'})\n",
        "  clean_text = cleaning(df_text)\n",
        "  token_text = tokenizer.texts_to_sequences(clean_text)\n",
        "  pad_text = keras.preprocessing.sequence.pad_sequences(token_text, padding='post', maxlen=pad)\n",
        "  predict_list = model.predict(pad_text)[0][:len(token_text[0])]\n",
        "  predict = predict_list.mean()\n",
        "  if predict < 0.4:\n",
        "    prediction = ([predict, 'ham'])\n",
        "  else:\n",
        "    prediction = ([predict, 'spam'])\n",
        "  return (prediction)\n",
        "\n",
        "pred_text = \"our new mobile video service is live. just install on your phone to start watching.\"\n",
        "\n",
        "prediction = predict_message(pred_text)\n",
        "print(prediction)"
      ]
    },
    {
      "cell_type": "code",
      "source": [
        "pred_text = \"our new mobile video service is live. just install on your phone to start watching.\"\n",
        "\n",
        "prediction = predict_message(pred_text)\n",
        "print(prediction)"
      ],
      "metadata": {
        "id": "bmdxbxJO0fW6"
      },
      "execution_count": null,
      "outputs": []
    },
    {
      "cell_type": "code",
      "execution_count": null,
      "metadata": {
        "id": "Dxotov85SjsC"
      },
      "outputs": [],
      "source": [
        "# Run this cell to test your function and model. Do not modify contents.\n",
        "def test_predictions():\n",
        "  test_messages = [\"how are you doing today\",\n",
        "                   \"sale today! to stop texts call 98912460324\",\n",
        "                   \"i dont want to go. can we try it a different day? available sat\",\n",
        "                   \"our new mobile video service is live. just install on your phone to start watching.\",\n",
        "                   \"you have won £1000 cash! call to claim your prize.\",\n",
        "                   \"i'll bring it tomorrow. don't forget the milk.\",\n",
        "                   \"wow, is your arm alright. that happened to me one time too\"\n",
        "                  ]\n",
        "\n",
        "  test_answers = [\"ham\", \"spam\", \"ham\", \"spam\", \"spam\", \"ham\", \"ham\"]\n",
        "  passed = True\n",
        "\n",
        "  for msg, ans in zip(test_messages, test_answers):\n",
        "    prediction = predict_message(msg)\n",
        "    if prediction[1] != ans:\n",
        "      passed = False\n",
        "\n",
        "  if passed:\n",
        "    print(\"You passed the challenge. Great job!\")\n",
        "  else:\n",
        "    print(\"You haven't passed yet. Keep trying.\")\n",
        "\n",
        "test_predictions()\n"
      ]
    }
  ],
  "metadata": {
    "colab": {
      "collapsed_sections": [],
      "name": "Copia de fcc_sms_text_classification.ipynb",
      "private_outputs": true,
      "provenance": []
    },
    "kernelspec": {
      "display_name": "Python 3",
      "name": "python3"
    },
    "language_info": {},
    "accelerator": "GPU",
    "gpuClass": "standard"
  },
  "nbformat": 4,
  "nbformat_minor": 0
}